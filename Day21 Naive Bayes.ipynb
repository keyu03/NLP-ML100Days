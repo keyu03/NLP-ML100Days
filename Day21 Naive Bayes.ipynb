{
 "cells": [
  {
   "cell_type": "code",
   "execution_count": null,
   "metadata": {},
   "outputs": [],
   "source": [
    "特徵獨立假設為 Naive Bayes 模型中相當重要的一環，這也是 Naive Bayes 中 『Naive』的由來。\n",
    "\n",
    "\n",
    "\n",
    "在 Naive Bayes 模型中，我們假設所有的輸入特徵都是彼此獨立的"
   ]
  }
 ],
 "metadata": {
  "kernelspec": {
   "display_name": "Python 3",
   "language": "python",
   "name": "python3"
  },
  "language_info": {
   "codemirror_mode": {
    "name": "ipython",
    "version": 3
   },
   "file_extension": ".py",
   "mimetype": "text/x-python",
   "name": "python",
   "nbconvert_exporter": "python",
   "pygments_lexer": "ipython3",
   "version": "3.7.8"
  }
 },
 "nbformat": 4,
 "nbformat_minor": 4
}
